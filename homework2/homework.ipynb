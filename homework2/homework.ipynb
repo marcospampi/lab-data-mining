{
 "cells": [
  {
   "cell_type": "markdown",
   "metadata": {},
   "source": [
    "# Homework 2\n",
    "This homework has been assigned in date 31st of October 2024.\n",
    "We have been required to complete a series of tasks on a *basket-item* kind dataset:\n",
    "1. Compute the frequency of each product. Then print in a bar plot the top 20. In\n",
    "the first axis you need to specify the product name, in the seconf one the\n",
    "product frequency.\n",
    "2. Compute the frequency of each level 3 and level 4. Then print the top 5 as the\n",
    "point 1.\n",
    "3. Apply the APRIORI algorithm.\n",
    "\n",
    "We have been offered a dataset of transactions owned by a third party, as I have no rights over it, I assume we are not allowed to share, please reach out our professors of *Introduction to Data Mining* at [this link](https://web.dmi.unict.it/courses/l-31/course-units/?seuid=8EAB2D3A-4281-40F4-83A0-C6B007577BA2) if interested.\n",
    "\n",
    "### Notes\n",
    "We have been required to follow an object-oriented approach, my work doesn't stricly follow this requirements as a jupyter notebook is provided.\n",
    "\n",
    "I did my best to not put any verbose or annoying code in it.\n"
   ]
  },
  {
   "cell_type": "markdown",
   "metadata": {},
   "source": [
    "### Loading environment\n",
    "We use `python-dotenv` package to load environment variables from a `.env` file, in particular the variable `TASK_DATASET_FILE` which, with no further explaination, points to our dataset file."
   ]
  },
  {
   "cell_type": "code",
   "execution_count": null,
   "metadata": {},
   "outputs": [],
   "source": [
    "import os\n",
    "import pandas as pd\n",
    "from dotenv import load_dotenv\n",
    "\n",
    "load_dotenv()\n",
    "\n",
    "dataset_file_path = os.getenv('TASK_DATASET_FILE_PATH')\n",
    "print(\"Our dataset path is: %s\" % dataset_file_path)"
   ]
  },
  {
   "cell_type": "markdown",
   "metadata": {},
   "source": [
    "### Loading our dataset\n",
    "Due to the large size of our raw dataset file, a series of facilities have been implemeneted to make my work easier, in particular:\n",
    "- A **Preprocessor** class has been made, it is its responsibility to:\n",
    "  - Select the features we are interested in.\n",
    "  - Drop invalid records from our dataset.\n",
    "  - Split our dataset into three different dataframes, **items**, **categories**, **transactions**.\n",
    "- A **CacheManager** and its **Cache** product have been implemented:\n",
    "  - A **CacheManager's** responsibility is to cache **Preprocessor's** results, so that iteration times, memory and computing resources are optimized.\n",
    "  - **Cache** is the result of a **CacheManager**, it holds the three dataset needed.\n",
    "  - Python's library **pickle**'s format has been used to serialize our dataframes as it preserves Panda's DataFrame informations. It is imperative you must create your own cache files through running this notebook, as **pickly** files can be used with malicious intent by third party users."
   ]
  },
  {
   "cell_type": "markdown",
   "metadata": {},
   "source": [
    "Follows the code that loads or dataset:"
   ]
  },
  {
   "cell_type": "code",
   "execution_count": null,
   "metadata": {},
   "outputs": [],
   "source": [
    "from src.cache import CacheManager\n",
    "cache = CacheManager(dataset_file_path).get_cache()"
   ]
  },
  {
   "cell_type": "markdown",
   "metadata": {},
   "source": [
    "Our cache object the three dataframes I considered interesting to extract to complete the homework:\n"
   ]
  },
  {
   "cell_type": "markdown",
   "metadata": {},
   "source": [
    "#### Items\n",
    "`cache.items` holds the data about the items present in the original dataset."
   ]
  },
  {
   "cell_type": "code",
   "execution_count": null,
   "metadata": {},
   "outputs": [],
   "source": [
    "cache.items"
   ]
  },
  {
   "cell_type": "markdown",
   "metadata": {},
   "source": [
    "#### Categories\n",
    "`cache.categories` holds the data about the categories of the original dataset, which should originate from a tree structure, although it is necessary to reconstruct for this task, thus this dataframe just holds the needed informations for each category, regardless of its level or parent."
   ]
  },
  {
   "cell_type": "code",
   "execution_count": null,
   "metadata": {},
   "outputs": [],
   "source": [
    "cache.categories"
   ]
  },
  {
   "cell_type": "markdown",
   "metadata": {},
   "source": [
    "#### Transactions\n",
    "`cache.transactions` holds the transactions from the original files, the data has been pruned down to the two needed features:\n",
    "- Transaction id ( *scontrino_id* ).\n",
    "- Item id ( *cod_prod* )"
   ]
  },
  {
   "cell_type": "code",
   "execution_count": null,
   "metadata": {},
   "outputs": [],
   "source": [
    "cache.transactions"
   ]
  },
  {
   "cell_type": "markdown",
   "metadata": {},
   "source": [
    "## Task 1\n",
    "### Frequency of each product\n",
    "To compute the data frame of frequencies of each product, we have to count singles `cod_prod` from **transaction's** data frame.\n",
    "\n",
    "As I preferred to keep the occurrence counts as I found it easier to understand, I'm going to calculate the requirred frequency by dividing each result's *count* column to the *transaction's* data frame size.\n",
    "\n",
    "Then the result is joined with **item's** data frame, of which I select only `descr_prod`, the product's description, as we are required to use as labels in the next plot.\n",
    "\n",
    "Follows the code and the data which holds the frequency of each product."
   ]
  },
  {
   "cell_type": "code",
   "execution_count": null,
   "metadata": {},
   "outputs": [],
   "source": [
    "most_frequent_df = (\n",
    "    cache.transactions['cod_prod'].value_counts(sort= True).to_frame()\n",
    "    .assign(frequency = lambda x: x['count'] / cache.transactions.size )\n",
    "    .join(cache.items[['descr_prod']], 'cod_prod')\n",
    ")\n",
    "\n",
    "most_frequent_df"
   ]
  },
  {
   "cell_type": "markdown",
   "metadata": {},
   "source": [
    "Follows the requested bar plot."
   ]
  },
  {
   "cell_type": "code",
   "execution_count": null,
   "metadata": {},
   "outputs": [],
   "source": [
    "import matplotlib.pyplot as plt\n",
    "\n",
    "# just select twenty of, as we are required\n",
    "most_frequent_df = most_frequent_df[:20]\n",
    "# draw a bigger figure\n",
    "plt.figure(figsize=(8,10))\n",
    "# use barh for horizontal bars, which I found a better fit here than vertical ones\n",
    "plt.barh(most_frequent_df['descr_prod'], most_frequent_df['count'])\n",
    "plt.show()"
   ]
  },
  {
   "cell_type": "markdown",
   "metadata": {},
   "source": [
    "## Task 2\n",
    "### Frequency of categories of level 3\n",
    "To compute the frequency of categories in level 3, it is needed to:\n",
    "1. Select the transaction data frame\n",
    "2. Join the data frame with items, but of items only select `liv3`\n",
    "3. Compute the `value_counts` of `liv3`.\n",
    "4. Join with *categories* data frame.\n"
   ]
  },
  {
   "cell_type": "code",
   "execution_count": null,
   "metadata": {},
   "outputs": [],
   "source": [
    "top_level3_df = (\n",
    "    cache.transactions\n",
    "    .join(cache.items[['liv3']], 'cod_prod' )\n",
    "    ['liv3'].value_counts()\n",
    "    .to_frame()\n",
    "    .assign(frequency = lambda x: x['count'] / cache.transactions.size )\n",
    "    .join(cache.categories)\n",
    ")\n",
    "\n",
    "top_level3_df"
   ]
  },
  {
   "cell_type": "markdown",
   "metadata": {},
   "source": [
    "Follows the bar plot of the top 5 categories of level 3:"
   ]
  },
  {
   "cell_type": "code",
   "execution_count": null,
   "metadata": {},
   "outputs": [],
   "source": [
    "#just select twenty of, as we are required\n",
    "top_level3_df = top_level3_df[:5]\n",
    "# draw a bigger figure\n",
    "plt.figure(figsize=(8,6))\n",
    "# use barh for horizontal bars, which I found a better fit here than vertical ones\n",
    "plt.barh(top_level3_df['descr'], top_level3_df['count'])\n",
    "plt.show()"
   ]
  },
  {
   "cell_type": "markdown",
   "metadata": {},
   "source": [
    "### Frequency of categories of level 4\n",
    "It is the same as [before](#frequency-of-categories-of-level-3), we extract the most frequent categories of level 4:"
   ]
  },
  {
   "cell_type": "code",
   "execution_count": null,
   "metadata": {},
   "outputs": [],
   "source": [
    "top_level4_df = (\n",
    "    cache.transactions\n",
    "    .join(cache.items[['liv4']], 'cod_prod' )\n",
    "    ['liv4'].value_counts()\n",
    "    .to_frame()\n",
    "    .assign(frequency = lambda x: x['count'] / cache.transactions.size )\n",
    "    .join(cache.categories)\n",
    ")\n",
    "\n",
    "top_level4_df"
   ]
  },
  {
   "cell_type": "markdown",
   "metadata": {},
   "source": [
    "And we plot them the same:"
   ]
  },
  {
   "cell_type": "code",
   "execution_count": null,
   "metadata": {},
   "outputs": [],
   "source": [
    "#just select twenty of, as we are required\n",
    "top_level4_df = top_level4_df[:5]\n",
    "# draw a bigger figure\n",
    "plt.figure(figsize=(8,6))\n",
    "# use barh for horizontal bars, which I found a better fit here than vertical ones\n",
    "plt.barh(top_level4_df['descr'], top_level4_df['count'])\n",
    "plt.show()"
   ]
  },
  {
   "cell_type": "markdown",
   "metadata": {},
   "source": [
    "## Task 3\n",
    "It is required to apply **Apriori** to our transactions."
   ]
  }
 ],
 "metadata": {
  "kernelspec": {
   "display_name": "usr",
   "language": "python",
   "name": "python3"
  },
  "language_info": {
   "codemirror_mode": {
    "name": "ipython",
    "version": 3
   },
   "file_extension": ".py",
   "mimetype": "text/x-python",
   "name": "python",
   "nbconvert_exporter": "python",
   "pygments_lexer": "ipython3",
   "version": "3.12.7"
  }
 },
 "nbformat": 4,
 "nbformat_minor": 2
}
